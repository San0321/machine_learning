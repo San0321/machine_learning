{
 "cells": [
  {
   "cell_type": "code",
   "execution_count": 2,
   "metadata": {
    "scrolled": false
   },
   "outputs": [
    {
     "name": "stdout",
     "output_type": "stream",
     "text": [
      "14\n",
      "62\n",
      "The Error rate is 22.0%\n",
      "[[19, 0, 3], [9, 0, 0], [2, 0, 29]]\n"
     ]
    }
   ],
   "source": [
    "import numpy as np\n",
    "# Load data set and code labels as 0 = ’NO’, 1 = ’DH’, 2 = ’SL’\n",
    "labels = ['NO', 'DH', 'SL']\n",
    "data = np.loadtxt('column_3C.dat', converters={6: lambda s: labels.index(s)})\n",
    "# Separate features from labels\n",
    "x = data[:,0:6]\n",
    "y = data[:,6]\n",
    "# Divide into training and test set\n",
    "training_indices = range(0,80) + range(100,148) + range(160,280)\n",
    "test_indices = range(80,100) + range(148,160) + range(280,310)\n",
    "trainx = x[training_indices,:]\n",
    "trainy = y[training_indices]\n",
    "testx = x[test_indices,:]\n",
    "testy = y[test_indices]\n",
    "\n",
    "checklist = []\n",
    "index_x = 0\n",
    "real_index_y = 0\n",
    "matrix = [[0 for x in range(3)]for y in range(3)]\n",
    "for x in testx:\n",
    "    minimum = -1\n",
    "    index_y = 0\n",
    "    for y in trainx:\n",
    "        add = 0\n",
    "        for z in range(0,6):\n",
    "            add += pow(abs(x[z]-y[z]),2)\n",
    "        add = np.sqrt(add)\n",
    "        if minimum == -1 or add < minimum:\n",
    "            real_index_y = index_y\n",
    "            minimum = add\n",
    "        add = 0\n",
    "        index_y += 1\n",
    "    if trainy[real_index_y] == testy[index_x]:\n",
    "        checklist.insert(index_x,\"true\")\n",
    "        matrix[int(trainy[real_index_y])][int(testy[index_x])] += 1\n",
    "    else:\n",
    "        checklist.insert(index_x,\"false\")\n",
    "        matrix[int(trainy[real_index_y])][int(testy[index_x])] += 1\n",
    "    index_x += 1\n",
    "\n",
    "index = 0\n",
    "summation = 0\n",
    "for a in checklist:\n",
    "    if a == \"false\":\n",
    "        summation += 1\n",
    "    index += 1\n",
    "final = float(summation * 100 / index)\n",
    "print(summation)\n",
    "print(index)\n",
    "print(\"The Error rate is \"+str(final) + \"%\")\n",
    "print matrix\n"
   ]
  },
  {
   "cell_type": "code",
   "execution_count": null,
   "metadata": {},
   "outputs": [],
   "source": []
  }
 ],
 "metadata": {
  "kernelspec": {
   "display_name": "Python 2",
   "language": "python",
   "name": "python2"
  },
  "language_info": {
   "codemirror_mode": {
    "name": "ipython",
    "version": 2
   },
   "file_extension": ".py",
   "mimetype": "text/x-python",
   "name": "python",
   "nbconvert_exporter": "python",
   "pygments_lexer": "ipython2",
   "version": "2.7.14"
  }
 },
 "nbformat": 4,
 "nbformat_minor": 2
}
