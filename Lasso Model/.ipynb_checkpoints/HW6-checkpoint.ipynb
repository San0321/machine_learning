{
 "cells": [
  {
   "cell_type": "code",
   "execution_count": 2,
   "metadata": {},
   "outputs": [],
   "source": [
    "import numpy as np\n",
    "import sklearn\n",
    "\n",
    "all_list = np.genfromtxt(\"mystery.dat\",dtype='f8', delimiter=\",\")"
   ]
  },
  {
   "cell_type": "code",
   "execution_count": 14,
   "metadata": {},
   "outputs": [
    {
     "name": "stdout",
     "output_type": "stream",
     "text": [
      "[  6.33110000e-01  -1.71313000e+00  -4.80560000e-01  -3.25400000e-01\n",
      "  -5.10200000e-02   5.63400000e-02  -1.63462000e+00  -5.80810000e-01\n",
      "   7.06270000e-01  -2.06938000e+00  -2.15460000e-01   7.32690000e-01\n",
      "  -9.01190000e-01  -1.83040000e-01  -2.29690000e-01   1.20261000e+00\n",
      "  -5.82360000e-01   7.81600000e-02   2.79280000e-01  -1.35520000e-01\n",
      "  -1.32590000e+00  -6.81270000e-01  -1.18120000e-01  -1.05947000e+00\n",
      "   1.11033000e+00   6.31770000e-01  -3.60830000e-01  -1.51566000e+00\n",
      "  -1.16140000e+00   2.65790000e-01   2.56240000e-01   1.53311000e+00\n",
      "   1.31406000e+00   2.32650000e-01  -2.42700000e-01   3.14820000e+00\n",
      "   3.73190000e-01   1.01635000e+00   4.90010000e-01  -7.85190000e-01\n",
      "   4.04630000e-01  -6.42810000e-01  -1.16330000e+00  -1.52408000e+00\n",
      "   4.97130000e-01  -5.77200000e-01   8.12980000e-01  -1.40475000e+00\n",
      "   1.03210000e+00  -1.11456000e+00   3.96960000e-01   6.86410000e-01\n",
      "   8.36620000e-01   1.67959000e+00   2.79020000e-01  -1.08914000e+00\n",
      "   3.17540000e-01  -1.04589000e+00   7.05940000e-01  -1.01451000e+00\n",
      "   1.62890000e-01  -2.14770000e+00  -1.10688000e+00  -4.26860000e-01\n",
      "  -3.46580000e-01   2.74746000e+00   8.80200000e-02   8.95700000e-01\n",
      "   3.64525000e+00  -1.64711000e+00  -5.35090000e-01  -1.67558000e+00\n",
      "  -5.74060000e-01   6.88800000e-02   2.19510000e-01  -1.31111000e+00\n",
      "  -8.02340000e-01  -3.47720000e-01   1.32710000e+00   8.96080000e-01\n",
      "  -1.43502000e+00  -1.62001000e+00   1.84338000e+00   2.32262000e+00\n",
      "   4.50920000e-01  -2.98460000e-01   9.40150000e-01  -5.95790000e-01\n",
      "  -4.22150000e-01   9.85300000e-01  -4.24320000e-01   6.93460000e-01\n",
      "   4.93710000e-01  -1.55780000e-01   1.02650000e+00   4.86400000e-01\n",
      "   3.27580000e-01  -2.28887000e+00  -4.30000000e-03  -3.96730000e-01\n",
      "  -6.07560000e+00]\n",
      "(101,)\n",
      "(101, 100)\n",
      "(101,)\n"
     ]
    }
   ],
   "source": [
    "print(all_list[0])\n",
    "print(all_list[0].shape)\n",
    "x_features = all_list[:,range(0,100)]\n",
    "y_features = all_list[:,100]\n",
    "print x_features.shape\n",
    "print y_features.shape"
   ]
  },
  {
   "cell_type": "code",
   "execution_count": 56,
   "metadata": {},
   "outputs": [
    {
     "data": {
      "text/plain": [
       "Lasso(alpha=0.6, copy_X=True, fit_intercept=True, max_iter=1000,\n",
       "   normalize=False, positive=False, precompute=False, random_state=None,\n",
       "   selection='cyclic', tol=0.0001, warm_start=False)"
      ]
     },
     "execution_count": 56,
     "metadata": {},
     "output_type": "execute_result"
    }
   ],
   "source": [
    "from sklearn import linear_model\n",
    "\n",
    "reg = linear_model.Lasso(alpha = 0.6)\n",
    "reg.fit(x_features,y_features)\n",
    "#reg.coef_"
   ]
  },
  {
   "cell_type": "code",
   "execution_count": 57,
   "metadata": {},
   "outputs": [
    {
     "name": "stdout",
     "output_type": "stream",
     "text": [
      "  (0, 1)\t0.507359989393\n",
      "  (0, 2)\t0.402583465181\n",
      "  (0, 4)\t0.513940682067\n",
      "  (0, 6)\t0.786062153107\n",
      "  (0, 10)\t0.366189389906\n",
      "  (0, 12)\t0.203098944517\n",
      "  (0, 16)\t0.0187656761803\n",
      "  (0, 18)\t0.277840023933\n",
      "  (0, 22)\t0.65096434511\n",
      "  (0, 26)\t0.428457163597\n"
     ]
    }
   ],
   "source": [
    "print reg.sparse_coef_"
   ]
  },
  {
   "cell_type": "code",
   "execution_count": null,
   "metadata": {},
   "outputs": [],
   "source": []
  }
 ],
 "metadata": {
  "kernelspec": {
   "display_name": "Python 2",
   "language": "python",
   "name": "python2"
  },
  "language_info": {
   "codemirror_mode": {
    "name": "ipython",
    "version": 2
   },
   "file_extension": ".py",
   "mimetype": "text/x-python",
   "name": "python",
   "nbconvert_exporter": "python",
   "pygments_lexer": "ipython2",
   "version": "2.7.14"
  }
 },
 "nbformat": 4,
 "nbformat_minor": 2
}
