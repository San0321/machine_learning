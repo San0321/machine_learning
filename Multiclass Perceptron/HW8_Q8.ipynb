{
 "cells": [
  {
   "cell_type": "code",
   "execution_count": 1,
   "metadata": {},
   "outputs": [],
   "source": [
    "from struct import unpack\n",
    "import numpy as np\n",
    "import matplotlib.pylab as plt\n",
    "import gzip\n",
    "from scipy.stats import multivariate_normal\n",
    "from sklearn.svm import SVC, LinearSVC\n",
    "\n",
    "def loadmnist(imagefile, labelfile):\n",
    "\n",
    "    # Open the images with gzip in read binary mode\n",
    "    images = gzip.open(imagefile, 'rb')\n",
    "    labels = gzip.open(labelfile, 'rb')\n",
    "\n",
    "    # Get metadata for images\n",
    "    images.read(4)  # skip the magic_number\n",
    "    number_of_images = images.read(4)\n",
    "    number_of_images = unpack('>I', number_of_images)[0]\n",
    "    rows = images.read(4)\n",
    "    rows = unpack('>I', rows)[0]\n",
    "    cols = images.read(4)\n",
    "    cols = unpack('>I', cols)[0]\n",
    "\n",
    "    # Get metadata for labels\n",
    "    labels.read(4)\n",
    "    N = labels.read(4)\n",
    "    N = unpack('>I', N)[0]\n",
    "\n",
    "    # Get data\n",
    "    x = np.zeros((N, rows*cols), dtype=np.uint8)  # Initialize numpy array\n",
    "    y = np.zeros(N, dtype=np.uint8)  # Initialize numpy array\n",
    "    for i in range(N):\n",
    "        for j in range(rows*cols):\n",
    "            tmp_pixel = images.read(1)  # Just a single byte\n",
    "            tmp_pixel = unpack('>B', tmp_pixel)[0]\n",
    "            x[i][j] = tmp_pixel\n",
    "        tmp_label = labels.read(1)\n",
    "        y[i] = unpack('>B', tmp_label)[0]\n",
    "\n",
    "    images.close()\n",
    "    labels.close()\n",
    "    return (x, y)\n",
    "\n",
    "def displaychar(image):\n",
    "    plt.imshow(np.reshape(image, (28,28)), cmap=plt.cm.gray)\n",
    "    plt.axis('off')\n",
    "    plt.show()"
   ]
  },
  {
   "cell_type": "code",
   "execution_count": 2,
   "metadata": {},
   "outputs": [],
   "source": [
    "trainImage, trainLabel = loadmnist('train-images-idx3-ubyte.gz', 'train-labels-idx1-ubyte.gz')\n",
    "testImage, testLabel = loadmnist('t10k-images-idx3-ubyte.gz', 't10k-labels-idx1-ubyte.gz')"
   ]
  },
  {
   "cell_type": "code",
   "execution_count": null,
   "metadata": {},
   "outputs": [],
   "source": [
    "#print trainImage"
   ]
  },
  {
   "cell_type": "code",
   "execution_count": null,
   "metadata": {},
   "outputs": [],
   "source": [
    "# LinearSVM Q8.A\n",
    "for i in range(-2,3): \n",
    "    clf = LinearSVC(loss='hinge', C= float(10**i))\n",
    "    clf.fit(trainImage,trainLabel)\n",
    "    \n",
    "    train_error = 0\n",
    "    train_prediction = clf.predict(trainImage)\n",
    "    \n",
    "    test_error = 0\n",
    "    test_prediction = clf.predict(testImage)\n",
    "    \n",
    "    for b in range(len(train_prediction)):\n",
    "        if(train_prediction[b] != trainLabel[b]):\n",
    "            train_error += 1\n",
    "    for a in range(len(test_prediction)):\n",
    "        if(test_prediction[a] != testLabel[a]):\n",
    "            test_error += 1\n",
    "    print \"The C value is \" + str(10**i) + \" and the Train error rate is \" + str(float(train_error)/len(trainLabel))\n",
    "    print \"And the test error is \" + str(float(test_error)/len(testLabel))\n",
    "    \n",
    "    \n",
    "'''\n",
    "delta = 0.005\n",
    "x1_min, x1_max = 1.5, 4.5\n",
    "x2_min, x2_max = 0.0, 2.75\n",
    "xx1, xx2 = np.meshgrid(np.arange(x1_min, x1_max, delta), np.arange(x2_min, x2_max, delta))\n",
    "Z = clf.predict(np.c_[xx1.ravel(), xx2.ravel()])\n",
    "Z = Z.reshape(xx1.shape)\n",
    "plt.pcolormesh(xx1, xx2, Z, cmap=plt.cm.Pastel2, vmin=0, vmax=2)\n",
    "'''"
   ]
  },
  {
   "cell_type": "code",
   "execution_count": 5,
   "metadata": {},
   "outputs": [],
   "source": [
    "# KernelSVM Q8.B\n",
    "clf1 = SVC(kernel='poly', degree=2, C= 1)\n",
    "clf1.fit(trainImage,trainLabel)\n",
    "\n",
    "train_error1 = 0\n",
    "train_prediction1 = clf1.predict(trainImage)\n",
    "\n",
    "test_error1 = 0\n",
    "test_prediction1 = clf1.predict(testImage)\n",
    "\n",
    "for b in range(len(train_prediction1)):\n",
    "    if(train_prediction1[b] != trainLabel[b]):\n",
    "        train_error1 += 1\n",
    "for a in range(len(test_prediction1)):\n",
    "    if(test_prediction1[a] != testLabel[a]):\n",
    "        test_error1 += 1\n"
   ]
  },
  {
   "cell_type": "code",
   "execution_count": 10,
   "metadata": {},
   "outputs": [
    {
     "name": "stdout",
     "output_type": "stream",
     "text": [
      "0\n",
      "The C value is 1 and the Train error rate is 0.0\n",
      "And the test error is 0.0194\n",
      "899\n",
      "[ 476  423  984  989  876 1060  641  882 1186 1135]\n"
     ]
    }
   ],
   "source": [
    "print train_error1\n",
    "print \"The C value is \" + str(1) + \" and the Train error rate is \" + str(float(train_error1)/len(trainLabel))\n",
    "print \"And the test error is \" + str(float(test_error1)/len(testLabel))\n",
    "print clf1.n_support_[0] + clf1.n_support_[1]\n",
    "print clf1.n_support_"
   ]
  },
  {
   "cell_type": "code",
   "execution_count": 11,
   "metadata": {},
   "outputs": [
    {
     "name": "stdout",
     "output_type": "stream",
     "text": [
      "8652\n"
     ]
    }
   ],
   "source": [
    "sum1 = 0\n",
    "for a in clf1.n_support_:\n",
    "    sum1 += a\n",
    "print sum1"
   ]
  },
  {
   "cell_type": "code",
   "execution_count": null,
   "metadata": {},
   "outputs": [],
   "source": [
    "\n",
    "import numpy as np\n",
    "from sklearn.svm import SVC, LinearSVC\n",
    "import matplotlib.pyplot as plt\n",
    "\n",
    "# Now load IRIS data\n",
    "from sklearn import datasets\n",
    "iris = datasets.load_iris()\n",
    "x = iris.data\n",
    "y = iris.target\n",
    " \n",
    "# Now select two of the four features\n",
    "f1,f2 = 1,3\n",
    "features = [f1,f2]\n",
    " \n",
    "# Now train SVM\n",
    "clf = LinearSVC(loss='hinge', multi_class='crammer_singer')\n",
    "clf.fit(x[:,features],y)\n",
    " \n",
    "# Create mesh for plot\n",
    "delta = 0.005\n",
    "x1_min, x1_max = 1.5, 4.5\n",
    "x2_min, x2_max = 0.0, 2.75\n",
    "xx1, xx2 = np.meshgrid(np.arange(x1_min, x1_max, delta), np.arange(x2_min, x2_max, delta))\n",
    "Z = clf.predict(np.c_[xx1.ravel(), xx2.ravel()])\n",
    "Z = Z.reshape(xx1.shape)\n",
    "plt.pcolormesh(xx1, xx2, Z, cmap=plt.cm.Pastel2, vmin=0, vmax=2)\n",
    " \n",
    "# Plot also the training points\n",
    "cols = ['ro', 'k^', 'b*']\n",
    "for label in range(0,3):\n",
    "    plt.plot(x[y==label,f1], x[y==label,f2], cols[label], markersize=8)\n",
    "plt.xlabel(iris.feature_names[f1], fontsize=14)\n",
    "plt.ylabel(iris.feature_names[f2], fontsize=14)\n",
    "plt.xlim(x1_min, x1_max)\n",
    "plt.ylim(x2_min, x2_max)\n",
    "plt.show()\n"
   ]
  },
  {
   "cell_type": "code",
   "execution_count": null,
   "metadata": {},
   "outputs": [],
   "source": []
  }
 ],
 "metadata": {
  "kernelspec": {
   "display_name": "Python 2",
   "language": "python",
   "name": "python2"
  },
  "language_info": {
   "codemirror_mode": {
    "name": "ipython",
    "version": 2
   },
   "file_extension": ".py",
   "mimetype": "text/x-python",
   "name": "python",
   "nbconvert_exporter": "python",
   "pygments_lexer": "ipython2",
   "version": "2.7.14"
  }
 },
 "nbformat": 4,
 "nbformat_minor": 2
}
