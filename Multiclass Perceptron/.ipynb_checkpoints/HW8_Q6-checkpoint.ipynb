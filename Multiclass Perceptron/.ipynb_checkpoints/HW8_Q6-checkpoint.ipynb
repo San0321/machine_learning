{
 "cells": [
  {
   "cell_type": "code",
   "execution_count": 391,
   "metadata": {},
   "outputs": [
    {
     "name": "stdout",
     "output_type": "stream",
     "text": [
      "[[ 1  2  0]\n",
      " [ 9  1  2]\n",
      " [ 1  9  1]\n",
      " [ 2  8  1]\n",
      " [ 2 10  1]\n",
      " [ 1 10  1]\n",
      " [ 3  8  1]\n",
      " [ 1  1  0]\n",
      " [ 9  9  3]\n",
      " [ 9  2  2]\n",
      " [ 9 10  3]\n",
      " [ 2  1  0]\n",
      " [10  9  3]\n",
      " [ 8  9  3]\n",
      " [ 3  2  0]\n",
      " [ 1  6  1]\n",
      " [ 4  3  0]\n",
      " [ 8  2  2]\n",
      " [ 5 10  1]\n",
      " [ 2  9  1]\n",
      " [ 4  9  1]\n",
      " [ 3  9  1]\n",
      " [ 7 10  3]\n",
      " [10  3  2]\n",
      " [ 1  7  1]\n",
      " [ 2  3  0]\n",
      " [ 4  2  0]\n",
      " [ 9  8  3]\n",
      " [ 8 10  3]\n",
      " [10 10  3]\n",
      " [ 1  3  0]\n",
      " [ 2  7  1]\n",
      " [ 3  1  0]\n",
      " [10  1  2]\n",
      " [ 8  3  2]\n",
      " [ 7  8  3]\n",
      " [ 3  3  0]\n",
      " [ 2  2  0]\n",
      " [ 7  9  3]\n",
      " [ 4  1  0]\n",
      " [ 3 10  1]\n",
      " [10  2  2]\n",
      " [ 9  3  2]\n",
      " [ 4 10  1]\n",
      " [ 8  1  2]\n",
      " [ 8  8  3]\n",
      " [ 1  8  1]\n",
      " [10  8  3]]\n"
     ]
    }
   ],
   "source": [
    "import numpy as np\n",
    "import sklearn as sklearn\n",
    "\n",
    "all_list = np.genfromtxt(\"data0.txt\",dtype='i4')\n",
    "np.random.shuffle(all_list)\n",
    "\n",
    "print all_list\n"
   ]
  },
  {
   "cell_type": "code",
   "execution_count": 392,
   "metadata": {},
   "outputs": [],
   "source": [
    "def multiclassperceptron(data, label): # somelist should be in just x and label should be just containing labels\n",
    "    check = True\n",
    "    w = [[0,0], [0,0], [0,0], [0,0]]\n",
    "    b = [0, 0, 0, 0]\n",
    "    classes = []\n",
    "    while(check):\n",
    "        check = False\n",
    "        doublecheck = False\n",
    "        for i in range(len(data)):\n",
    "            classes = []\n",
    "            classes.append(w[0][0]*data[i][0]+w[0][1]*data[i][1]+b[0]) # class0\n",
    "            classes.append(w[1][0]*data[i][0]+w[1][1]*data[i][1]+b[1]) # class1\n",
    "            classes.append(w[2][0]*data[i][0]+w[2][1]*data[i][1]+b[2]) # Class2\n",
    "            classes.append(w[3][0]*data[i][0]+w[3][1]*data[i][1]+b[3]) # class3\n",
    "            predicted = classes.index(max(classes))\n",
    "          #  print predicted, label[i], classes\n",
    "            if(predicted != label[i]):\n",
    "                w[predicted][0] -= data[i][0]\n",
    "                w[predicted][1] -= data[i][1]\n",
    "                b[predicted] -= 1\n",
    "                w[label[i]][0] += data[i][0]\n",
    "                w[label[i]][1] += data[i][1]\n",
    "                b[label[i]] += 1\n",
    "                doublecheck = True\n",
    "        if(doublecheck == True):\n",
    "            check = True\n",
    "    return w, b"
   ]
  },
  {
   "cell_type": "code",
   "execution_count": 393,
   "metadata": {},
   "outputs": [],
   "source": [
    "#data slicing\n",
    "x_data = []\n",
    "y_label = []\n",
    "for a in range(len(all_list)):\n",
    "    data_temp = []\n",
    "    label_temp = []\n",
    "    data_temp.append(all_list[a][0])\n",
    "    data_temp.append(all_list[a][1])\n",
    "    y_label.append(all_list[a][2])\n",
    "    x_data.append(data_temp)"
   ]
  },
  {
   "cell_type": "code",
   "execution_count": 394,
   "metadata": {},
   "outputs": [
    {
     "name": "stdout",
     "output_type": "stream",
     "text": [
      "[[9, -6], [-52, 33], [28, -28], [15, 1]] [61, -6, -22, -33]\n"
     ]
    }
   ],
   "source": [
    "# run multiclass\n",
    "w, b = multiclassperceptron(x_data, y_label)\n",
    "print w, b"
   ]
  },
  {
   "cell_type": "code",
   "execution_count": 395,
   "metadata": {},
   "outputs": [
    {
     "name": "stderr",
     "output_type": "stream",
     "text": [
      "c:\\users\\san\\miniconda2\\lib\\site-packages\\sklearn\\linear_model\\stochastic_gradient.py:117: DeprecationWarning: n_iter parameter is deprecated in 0.19 and will be removed in 0.21. Use max_iter and tol instead.\n",
      "  DeprecationWarning)\n"
     ]
    },
    {
     "data": {
      "image/png": "[encoded data removed]",
      "text/plain": [
       "<matplotlib.figure.Figure at 0x2118f5c0>"
      ]
     },
     "metadata": {},
     "output_type": "display_data"
    }
   ],
   "source": [
    "import matplotlib.pyplot as plt\n",
    "from sklearn.linear_model import perceptron\n",
    "from mlxtend.plotting import plot_decision_regions\n",
    "\n",
    "graph = perceptron.Perceptron(n_iter=100)\n",
    "graph.coef_ = w\n",
    "graph.intercept_ = b\n",
    "graph.fit(x_data,y_label)\n",
    "plot_decision_regions(np.array(x_data), np.array(y_label), clf=graph)\n",
    "plt.show()"
   ]
  },
  {
   "cell_type": "code",
   "execution_count": 396,
   "metadata": {},
   "outputs": [
    {
     "data": {
      "text/plain": [
       "\"\\nhttps://stats.stackexchange.com/questions/71335/decision-boundary-plot-for-a-perceptron\\n\\nimport numpy as np\\nfrom sklearn.linear_model import Perceptron\\nimport matplotlib.pyplot as plt\\n\\nX = np.array([[2,1],[3,4],[4,2],[3,1]])\\nY = np.array([0,0,1,1])\\nh = .02  # step size in the mesh\\n\\n\\n# we create an instance of SVM and fit our data. We do not scale our\\n# data since we want to plot the support vectors\\n\\nclf = Perceptron(n_iter=100).fit(X, Y)\\n\\n# create a mesh to plot in\\nx_min, x_max = X[:, 0].min() - 1, X[:, 0].max() + 1\\ny_min, y_max = X[:, 1].min() - 1, X[:, 1].max() + 1\\nxx, yy = np.meshgrid(np.arange(x_min, x_max, h),\\n                     np.arange(y_min, y_max, h))\\n\\n# Plot the decision boundary. For that, we will assign a color to each\\n# point in the mesh [x_min, m_max]x[y_min, y_max].\\nfig, ax = plt.subplots()\\nZ = clf.predict(np.c_[xx.ravel(), yy.ravel()])\\n\\n# Put the result into a color plot\\nZ = Z.reshape(xx.shape)\\nax.contourf(xx, yy, Z, cmap=plt.cm.Paired)\\nax.axis('off')\\n\\n# Plot also the training points\\nax.scatter(X[:, 0], X[:, 1], c=Y, cmap=plt.cm.Paired)\\n\\nax.set_title('Perceptron')\\n\""
      ]
     },
     "execution_count": 396,
     "metadata": {},
     "output_type": "execute_result"
    }
   ],
   "source": [
    "'''\n",
    "https://stats.stackexchange.com/questions/71335/decision-boundary-plot-for-a-perceptron\n",
    "\n",
    "import numpy as np\n",
    "from sklearn.linear_model import Perceptron\n",
    "import matplotlib.pyplot as plt\n",
    "\n",
    "X = np.array([[2,1],[3,4],[4,2],[3,1]])\n",
    "Y = np.array([0,0,1,1])\n",
    "h = .02  # step size in the mesh\n",
    "\n",
    "\n",
    "# we create an instance of SVM and fit our data. We do not scale our\n",
    "# data since we want to plot the support vectors\n",
    "\n",
    "clf = Perceptron(n_iter=100).fit(X, Y)\n",
    "\n",
    "# create a mesh to plot in\n",
    "x_min, x_max = X[:, 0].min() - 1, X[:, 0].max() + 1\n",
    "y_min, y_max = X[:, 1].min() - 1, X[:, 1].max() + 1\n",
    "xx, yy = np.meshgrid(np.arange(x_min, x_max, h),\n",
    "                     np.arange(y_min, y_max, h))\n",
    "\n",
    "# Plot the decision boundary. For that, we will assign a color to each\n",
    "# point in the mesh [x_min, m_max]x[y_min, y_max].\n",
    "fig, ax = plt.subplots()\n",
    "Z = clf.predict(np.c_[xx.ravel(), yy.ravel()])\n",
    "\n",
    "# Put the result into a color plot\n",
    "Z = Z.reshape(xx.shape)\n",
    "ax.contourf(xx, yy, Z, cmap=plt.cm.Paired)\n",
    "ax.axis('off')\n",
    "\n",
    "# Plot also the training points\n",
    "ax.scatter(X[:, 0], X[:, 1], c=Y, cmap=plt.cm.Paired)\n",
    "\n",
    "ax.set_title('Perceptron')\n",
    "'''"
   ]
  }
 ],
 "metadata": {
  "kernelspec": {
   "display_name": "Python 2",
   "language": "python",
   "name": "python2"
  },
  "language_info": {
   "codemirror_mode": {
    "name": "ipython",
    "version": 2
   },
   "file_extension": ".py",
   "mimetype": "text/x-python",
   "name": "python",
   "nbconvert_exporter": "python",
   "pygments_lexer": "ipython2",
   "version": "2.7.13"
  }
 },
 "nbformat": 4,
 "nbformat_minor": 2
}
