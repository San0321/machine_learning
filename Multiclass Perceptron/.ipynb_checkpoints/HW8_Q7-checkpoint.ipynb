{
 "cells": [
  {
   "cell_type": "code",
   "execution_count": 8,
   "metadata": {},
   "outputs": [],
   "source": [
    "import numpy as np\n",
    "import sklearn as sklearn\n",
    "\n",
    "data1 = np.genfromtxt(\"data1.txt\",dtype='i4')\n",
    "data2 = np.genfromtxt(\"data2.txt\",dtype='i4')"
   ]
  },
  {
   "cell_type": "code",
   "execution_count": 9,
   "metadata": {},
   "outputs": [],
   "source": [
    "def quadKernel(data, label):\n",
    "    check = True\n",
    "    a = 0\n",
    "    b = 0\n",
    "    classes = []\n",
    "    while(check):\n",
    "        check = False\n",
    "        doublecheck = False\n",
    "        for i in range(len(data)):\n",
    "            oneData = 0\n",
    "            for j in range(len(data)):\n",
    "                oneData += a*label[j]*pow((np.dot(data[j],data[i])+1),2)+b\n",
    "            if(oneData <= 0):\n",
    "                a += 1\n",
    "                b += label[i]\n",
    "                doublecheck = True\n",
    "        if(doublecheck == True):\n",
    "            check = True\n",
    "    return a, b"
   ]
  },
  {
   "cell_type": "code",
   "execution_count": 10,
   "metadata": {},
   "outputs": [],
   "source": [
    "#data slicing\n",
    "x_data1 = []\n",
    "y_label1 = []\n",
    "\n",
    "for a in range(len(data1)):\n",
    "    data_temp = []\n",
    "    label_temp = []\n",
    "    data_temp.append(data1[a][0])\n",
    "    data_temp.append(data1[a][1])\n",
    "    y_label1.append(data1[a][2])\n",
    "    x_data1.append(data_temp)\n",
    "\n",
    "x_data2 = []\n",
    "y_label2 = []    \n",
    "\n",
    "for b in range(len(data2)):\n",
    "    data_temp = []\n",
    "    label_temp = []\n",
    "    data_temp.append(data2[b][0])\n",
    "    data_temp.append(data2[b][1])\n",
    "    y_label2.append(data2[b][2])\n",
    "    x_data2.append(data_temp)"
   ]
  },
  {
   "cell_type": "code",
   "execution_count": 11,
   "metadata": {},
   "outputs": [],
   "source": [
    "#print x_data1"
   ]
  },
  {
   "cell_type": "code",
   "execution_count": null,
   "metadata": {},
   "outputs": [
    {
     "name": "stderr",
     "output_type": "stream",
     "text": [
      "c:\\users\\san\\miniconda2\\lib\\site-packages\\ipykernel_launcher.py:12: RuntimeWarning: overflow encountered in long_scalars\n",
      "  if sys.path[0] == '':\n"
     ]
    }
   ],
   "source": [
    "a1, b1 = quadKernel(x_data1, y_label1)\n",
    "# a2, b2 = quadKernel(x_data2, y_label2)"
   ]
  },
  {
   "cell_type": "code",
   "execution_count": 7,
   "metadata": {},
   "outputs": [
    {
     "name": "stdout",
     "output_type": "stream",
     "text": [
      "76 26\n"
     ]
    }
   ],
   "source": [
    "print a1, b1"
   ]
  },
  {
   "cell_type": "code",
   "execution_count": null,
   "metadata": {},
   "outputs": [],
   "source": []
  }
 ],
 "metadata": {
  "kernelspec": {
   "display_name": "Python 2",
   "language": "python",
   "name": "python2"
  },
  "language_info": {
   "codemirror_mode": {
    "name": "ipython",
    "version": 2
   },
   "file_extension": ".py",
   "mimetype": "text/x-python",
   "name": "python",
   "nbconvert_exporter": "python",
   "pygments_lexer": "ipython2",
   "version": "2.7.13"
  }
 },
 "nbformat": 4,
 "nbformat_minor": 2
}
