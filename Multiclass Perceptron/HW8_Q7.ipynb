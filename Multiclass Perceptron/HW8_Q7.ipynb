{
 "cells": [
  {
   "cell_type": "code",
   "execution_count": 72,
   "metadata": {},
   "outputs": [],
   "source": [
    "import numpy as np\n",
    "import sklearn as sklearn\n",
    "from math import exp, fabs\n",
    "\n",
    "data1 = np.genfromtxt(\"data1.txt\",dtype='i4')\n",
    "data2 = np.genfromtxt(\"data2.txt\",dtype='i4')\n",
    "#print data1"
   ]
  },
  {
   "cell_type": "code",
   "execution_count": 73,
   "metadata": {},
   "outputs": [],
   "source": [
    "def quadKernel(data, label):\n",
    "    check = True\n",
    "    a = np.zeros(len(data))\n",
    "    b = 0\n",
    "    while(check):\n",
    "        check = False\n",
    "        doublecheck = False\n",
    "        for i in range(len(data)):\n",
    "            oneData = 0\n",
    "            for j in range(len(data)):\n",
    "                oneData += a[j]*label[j]*((np.dot(data[j],data[i])+1)**2)+b\n",
    "            if(oneData*label[i] <= 0):\n",
    "                a[i] += 1\n",
    "                b += label[i]\n",
    "                doublecheck = True\n",
    "        if(doublecheck == True):\n",
    "            check = True\n",
    "    return a, b\n",
    "\n",
    "def rbfKernel(data, label,sig):\n",
    "    check = True\n",
    "    a = np.zeros(len(data))\n",
    "    b = 0\n",
    "    while(check):\n",
    "        check = False\n",
    "        doublecheck = False\n",
    "        for i in range(len(data)):\n",
    "            oneData = 0\n",
    "            for j in range(len(data)):\n",
    "                oneData += a[j]*label[j]*exp(-fabs(data[i]-data[j])/((2*sig)**2))+b\n",
    "            if(oneData*label[i] <= 0):\n",
    "                a[i] += 1\n",
    "                b += label[i]\n",
    "                doublecheck = True\n",
    "        if(doublecheck == True):\n",
    "            check = True\n",
    "    return a, b"
   ]
  },
  {
   "cell_type": "code",
   "execution_count": 74,
   "metadata": {},
   "outputs": [],
   "source": [
    "#data slicing\n",
    "x_data1 = []\n",
    "y_label1 = []\n",
    "\n",
    "#data randomize\n",
    "np.random.shuffle(data1)\n",
    "np.random.shuffle(data2)\n",
    "\n",
    "for a in range(len(data1)):\n",
    "    data_temp = []\n",
    "    label_temp = []\n",
    "    data_temp.append(data1[a][0])\n",
    "    data_temp.append(data1[a][1])\n",
    "    y_label1.append(data1[a][2])\n",
    "    x_data1.append(data_temp)\n",
    "\n",
    "x_data2 = []\n",
    "y_label2 = []    \n",
    "\n",
    "for b in range(len(data2)):\n",
    "    data_temp = []\n",
    "    label_temp = []\n",
    "    data_temp.append(data2[b][0])\n",
    "    data_temp.append(data2[b][1])\n",
    "    y_label2.append(data2[b][2])\n",
    "    x_data2.append(data_temp)"
   ]
  },
  {
   "cell_type": "code",
   "execution_count": 75,
   "metadata": {},
   "outputs": [],
   "source": [
    "def predict(a, b, data, label):\n",
    "    predictor =[]\n",
    "    for i in range(len(data)):\n",
    "        oneData = 0\n",
    "        predict = 0\n",
    "        for j in range(len(data)):\n",
    "            oneData += a[j]*label[j]*((np.dot(data[j],data[i])+1)**2)+b\n",
    "        if(oneData*label[i] > 0):\n",
    "            predictor.append(1)\n",
    "        else:\n",
    "            predictor.append(0)\n",
    "    return predictor"
   ]
  },
  {
   "cell_type": "code",
   "execution_count": 76,
   "metadata": {},
   "outputs": [],
   "source": [
    "#predict(x_data1, y_label1)\n",
    "#print x_data1\n",
    "#print y_label1\n"
   ]
  },
  {
   "cell_type": "code",
   "execution_count": 77,
   "metadata": {},
   "outputs": [
    {
     "ename": "AttributeError",
     "evalue": "'module' object has no attribute 'c'",
     "output_type": "error",
     "traceback": [
      "\u001b[1;31m---------------------------------------------------------------------------\u001b[0m",
      "\u001b[1;31mAttributeError\u001b[0m                            Traceback (most recent call last)",
      "\u001b[1;32m<ipython-input-77-c2c9d8ae9d17>\u001b[0m in \u001b[0;36m<module>\u001b[1;34m()\u001b[0m\n\u001b[0;32m      5\u001b[0m \u001b[0ma2\u001b[0m\u001b[1;33m,\u001b[0m \u001b[0mb2\u001b[0m \u001b[1;33m=\u001b[0m \u001b[0mquadKernel\u001b[0m\u001b[1;33m(\u001b[0m\u001b[0mx_data2\u001b[0m\u001b[1;33m,\u001b[0m \u001b[0my_label2\u001b[0m\u001b[1;33m)\u001b[0m\u001b[1;33m\u001b[0m\u001b[0m\n\u001b[0;32m      6\u001b[0m \u001b[0mxx1\u001b[0m\u001b[1;33m,\u001b[0m \u001b[0mxx2\u001b[0m \u001b[1;33m=\u001b[0m \u001b[0mnp\u001b[0m\u001b[1;33m.\u001b[0m\u001b[0mmeshgrid\u001b[0m\u001b[1;33m(\u001b[0m\u001b[0mnp\u001b[0m\u001b[1;33m.\u001b[0m\u001b[0marange\u001b[0m\u001b[1;33m(\u001b[0m\u001b[1;36m0.5\u001b[0m\u001b[1;33m,\u001b[0m\u001b[1;36m10.5\u001b[0m\u001b[1;33m,\u001b[0m\u001b[1;36m0.005\u001b[0m\u001b[1;33m)\u001b[0m\u001b[1;33m,\u001b[0m\u001b[0mnp\u001b[0m\u001b[1;33m.\u001b[0m\u001b[0marange\u001b[0m\u001b[1;33m(\u001b[0m\u001b[1;36m.5\u001b[0m\u001b[1;33m,\u001b[0m\u001b[1;36m10.5\u001b[0m\u001b[1;33m,\u001b[0m\u001b[1;36m0.005\u001b[0m\u001b[1;33m)\u001b[0m\u001b[1;33m)\u001b[0m\u001b[1;33m\u001b[0m\u001b[0m\n\u001b[1;32m----> 7\u001b[1;33m \u001b[0mZ\u001b[0m \u001b[1;33m=\u001b[0m \u001b[0mpredict\u001b[0m\u001b[1;33m(\u001b[0m\u001b[0mnp\u001b[0m\u001b[1;33m.\u001b[0m\u001b[0mc\u001b[0m\u001b[1;33m(\u001b[0m\u001b[0ma1\u001b[0m\u001b[1;33m,\u001b[0m \u001b[0mb1\u001b[0m\u001b[1;33m,\u001b[0m \u001b[0mx_data1\u001b[0m\u001b[1;33m,\u001b[0m \u001b[0my_label1\u001b[0m\u001b[1;33m)\u001b[0m\u001b[1;33m)\u001b[0m\u001b[1;33m\u001b[0m\u001b[0m\n\u001b[0m\u001b[0;32m      8\u001b[0m \u001b[0mZ\u001b[0m \u001b[1;33m=\u001b[0m \u001b[0mZ\u001b[0m\u001b[1;33m.\u001b[0m\u001b[0mreshape\u001b[0m\u001b[1;33m(\u001b[0m\u001b[0mxx1\u001b[0m\u001b[1;33m.\u001b[0m\u001b[0mshape\u001b[0m\u001b[1;33m)\u001b[0m\u001b[1;33m\u001b[0m\u001b[0m\n\u001b[0;32m      9\u001b[0m \u001b[0mplt\u001b[0m\u001b[1;33m.\u001b[0m\u001b[0mpcolormesh\u001b[0m\u001b[1;33m(\u001b[0m\u001b[0mxx1\u001b[0m\u001b[1;33m,\u001b[0m \u001b[0mxx2\u001b[0m\u001b[1;33m,\u001b[0m \u001b[0mZ\u001b[0m\u001b[1;33m,\u001b[0m \u001b[0mcmap\u001b[0m\u001b[1;33m=\u001b[0m\u001b[0mplt\u001b[0m\u001b[1;33m.\u001b[0m\u001b[0mcm\u001b[0m\u001b[1;33m.\u001b[0m\u001b[0mPastel2\u001b[0m\u001b[1;33m,\u001b[0m \u001b[0mvmin\u001b[0m\u001b[1;33m=\u001b[0m\u001b[1;36m0\u001b[0m\u001b[1;33m,\u001b[0m \u001b[0mvmax\u001b[0m\u001b[1;33m=\u001b[0m\u001b[1;36m2\u001b[0m\u001b[1;33m)\u001b[0m\u001b[1;33m\u001b[0m\u001b[0m\n",
      "\u001b[1;31mAttributeError\u001b[0m: 'module' object has no attribute 'c'"
     ]
    }
   ],
   "source": [
    "import matplotlib.pyplot as plt\n",
    "from sklearn.linear_model import perceptron\n",
    "from mlxtend.plotting import plot_decision_regions\n",
    "a1, b1 = quadKernel(x_data1, y_label1)\n",
    "a2, b2 = quadKernel(x_data2, y_label2)\n",
    "xx1, xx2 = np.meshgrid(np.arange(0.5,10.5,0.005),np.arange(.5,10.5,0.005))\n",
    "Z = predict(np.c(a1, b1, x_data1, y_label1))\n",
    "Z = Z.reshape(xx1.shape)\n",
    "plt.pcolormesh(xx1, xx2, Z, cmap=plt.cm.Pastel2, vmin=0, vmax=2)\n",
    "plt.show()\n",
    "result = predict(a1, b1, x_data1, y_label1)"
   ]
  },
  {
   "cell_type": "code",
   "execution_count": 33,
   "metadata": {
    "scrolled": true
   },
   "outputs": [
    {
     "name": "stdout",
     "output_type": "stream",
     "text": [
      "[1, 1, 1, 1, 1, 1, 1, 1, 1, 1, 1, 1, 1, 1, 1, 1, 1, 1, 1, 1, 1, 1, 1, 1, 1, 1, 1, 1, 1, 1, 1, 1, 1, 1, 1, 1, 1, 1, 1, 1, 1, 1, 1, 1, 1, 1, 1, 1, 1, 1, 1, 1, 1, 1, 1, 1, 1, 1, 1, 1, 1, 1, 1, 1, 1, 1, 1, 1, 1, 1, 1, 1, 1, 1, 1, 1]\n",
      "[ 1.  1.  0.  1.  0.  0.  0.  0.  0.  0.  0.  1.  1.  1.  1.  1.  0.  0.\n",
      "  0.  0.  1.  0.  0.  0.  0.  0.  0.  1.  0.  0.  1.  0.  0.  0.  0.  0.\n",
      "  0.  0.  0.  0.  0.  1.  0.  0.  0.  0.  1.  0.  0.  1.  0.  0.  1.  1.\n",
      "  0.  0.  0.  0.  0.  0.  0.  0.  0.  0.  1.  1.  1.  1.  0.  0.  0.  0.\n",
      "  1.  1.  0.  0.] 12\n",
      "[   1.    0.    2.  101.  112.    7.    0.    0.   43.   39.   32.  110.\n",
      "    7.   66.   44.    0.  132.   65.  111.    2.   14.   46.    0.   13.\n",
      "    0.   36.    0.    7.   77.   67.   16.   11.   25.   14.   63.   69.\n",
      "    1.  134.   40.  114.   29.    0.    0.   40.   20.   12.    5.    0.\n",
      "    2.   84.    0.   10.   89.    0.    0.   93.   66.   29.   57.   30.] 65\n"
     ]
    }
   ],
   "source": [
    "print result\n",
    "print a1, b1\n",
    "print a2, b2"
   ]
  },
  {
   "cell_type": "code",
   "execution_count": 13,
   "metadata": {},
   "outputs": [
    {
     "name": "stderr",
     "output_type": "stream",
     "text": [
      "C:\\Python27\\lib\\site-packages\\sklearn\\linear_model\\stochastic_gradient.py:128: FutureWarning: max_iter and tol parameters have been added in <class 'sklearn.linear_model.perceptron.Perceptron'> in 0.19. If both are left unset, they default to max_iter=5 and tol=None. If tol is not None, max_iter defaults to max_iter=1000. From 0.21, default max_iter will be 1000, and default tol will be 1e-3.\n",
      "  \"and default tol will be 1e-3.\" % type(self), FutureWarning)\n"
     ]
    },
    {
     "data": {
      "image/png": "[encoded data removed]",
      "text/plain": [
       "<matplotlib.figure.Figure at 0x108f3bd0>"
      ]
     },
     "metadata": {},
     "output_type": "display_data"
    }
   ],
   "source": [
    "import matplotlib.pyplot as plt\n",
    "from sklearn.linear_model import perceptron\n",
    "from mlxtend.plotting import plot_decision_regions\n",
    "\n",
    "graph = perceptron.Perceptron()\n",
    "graph.coef_ = a1\n",
    "graph.intercept_ = b1\n",
    "graph.fit(x_data1,y_label1)\n",
    "plot_decision_regions(np.array(x_data1), np.array(y_label1), clf=graph)\n",
    "plt.show()"
   ]
  },
  {
   "cell_type": "code",
   "execution_count": 14,
   "metadata": {},
   "outputs": [
    {
     "name": "stderr",
     "output_type": "stream",
     "text": [
      "C:\\Python27\\lib\\site-packages\\sklearn\\linear_model\\stochastic_gradient.py:117: DeprecationWarning: n_iter parameter is deprecated in 0.19 and will be removed in 0.21. Use max_iter and tol instead.\n",
      "  DeprecationWarning)\n"
     ]
    },
    {
     "data": {
      "image/png": "[encoded data removed]",
      "text/plain": [
       "<matplotlib.figure.Figure at 0x109e44f0>"
      ]
     },
     "metadata": {},
     "output_type": "display_data"
    }
   ],
   "source": [
    "graph = perceptron.Perceptron(n_iter=100)\n",
    "graph.coef_ = a2\n",
    "graph.intercept_ = b2\n",
    "graph.fit(x_data2,y_label2)\n",
    "plot_decision_regions(np.array(x_data2), np.array(y_label2), clf=graph)\n",
    "plt.show()"
   ]
  },
  {
   "cell_type": "code",
   "execution_count": 36,
   "metadata": {},
   "outputs": [
    {
     "data": {
      "image/png": "[encoded data removed]",
      "text/plain": [
       "<matplotlib.figure.Figure at 0x10ece7d0>"
      ]
     },
     "metadata": {},
     "output_type": "display_data"
    }
   ],
   "source": [
    "# Create mesh for plot\n",
    "clf = perceptron.Perceptron(n_iter=100)\n",
    "clf.coef_ = a1\n",
    "clf.intercept_ = b1\n",
    "clf.fit(x_data1, y_label1)\n",
    "delta = 0.5\n",
    "x1_min, x1_max = 0.0, 12.0\n",
    "x2_min, x2_max = 0.0, 12.0\n",
    "xx1, xx2 = np.meshgrid(np.arange(x1_min, x1_max, delta), np.arange(x2_min, x2_max, delta))\n",
    "Z = clf.predict(np.c_[xx1.ravel(), xx2.ravel()])\n",
    "Z = Z.reshape(xx1.shape)\n",
    "plt.pcolormesh(xx1, xx2, Z, cmap=plt.cm.Pastel2, vmin=0, vmax=2)\n",
    " \n",
    "# Plot also the training points\n",
    "#cols = ['ro', 'k^', 'b*']\n",
    "#for label in range(0,3):\n",
    "#    plt.plot(x_data1[Z==y_label1], x_data1[Z==y_label1], cols[y_label1], markersize=8)\n",
    "#plt.xlabel(iris.feature_names[f1], fontsize=14)\n",
    "#plt.ylabel(iris.feature_names[f2], fontsize=14)\n",
    "plt.xlim(x1_min, x1_max)\n",
    "plt.ylim(x2_min, x2_max)\n",
    "plt.show()"
   ]
  },
  {
   "cell_type": "code",
   "execution_count": 84,
   "metadata": {},
   "outputs": [],
   "source": [
    "for a in range(len(y_label2)):\n",
    "    if(y_label2[a] == -1):\n",
    "        y_label2[a] = 0"
   ]
  },
  {
   "cell_type": "code",
   "execution_count": 88,
   "metadata": {},
   "outputs": [
    {
     "data": {
      "image/png": "[encoded data removed]",
      "text/plain": [
       "<matplotlib.figure.Figure at 0x120dcb50>"
      ]
     },
     "metadata": {},
     "output_type": "display_data"
    }
   ],
   "source": [
    "from sklearn.svm import SVC, LinearSVC\n",
    "clf = SVC(C=12,kernel='poly')\n",
    "#clf.coef_ = a1\n",
    "#clf.intercept_ = b1\n",
    "clf.fit(x_data2, y_label2)\n",
    "plot_decision_regions(np.array(x_data2), np.array(y_label2), clf)\n",
    "plt.show()"
   ]
  },
  {
   "cell_type": "code",
   "execution_count": 42,
   "metadata": {},
   "outputs": [
    {
     "data": {
      "image/png": "[encoded data removed]",
      "text/plain": [
       "<matplotlib.figure.Figure at 0x10ff0150>"
      ]
     },
     "metadata": {},
     "output_type": "display_data"
    }
   ],
   "source": [
    "#plt.show()"
   ]
  },
  {
   "cell_type": "code",
   "execution_count": null,
   "metadata": {},
   "outputs": [],
   "source": [
    "clf = SVC(C=0.001,kernel='poly',degree=7)\n",
    "clf.fit(x_data2, y_label2)\n",
    "plot_decision_regions(np.array(x_data2), np.array(y_label2), clf)"
   ]
  },
  {
   "cell_type": "code",
   "execution_count": null,
   "metadata": {},
   "outputs": [],
   "source": [
    "plt.show()"
   ]
  },
  {
   "cell_type": "code",
   "execution_count": null,
   "metadata": {},
   "outputs": [],
   "source": []
  },
  {
   "cell_type": "code",
   "execution_count": null,
   "metadata": {},
   "outputs": [],
   "source": []
  }
 ],
 "metadata": {
  "kernelspec": {
   "display_name": "Python 2",
   "language": "python",
   "name": "python2"
  },
  "language_info": {
   "codemirror_mode": {
    "name": "ipython",
    "version": 2
   },
   "file_extension": ".py",
   "mimetype": "text/x-python",
   "name": "python",
   "nbconvert_exporter": "python",
   "pygments_lexer": "ipython2",
   "version": "2.7.13"
  }
 },
 "nbformat": 4,
 "nbformat_minor": 2
}
