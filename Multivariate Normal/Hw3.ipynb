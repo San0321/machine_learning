{
 "cells": [
  {
   "cell_type": "code",
   "execution_count": null,
   "metadata": {},
   "outputs": [],
   "source": []
  },
  {
   "cell_type": "code",
   "execution_count": null,
   "metadata": {},
   "outputs": [],
   "source": [
    "import numpy as np\n",
    "import matplotlib.pyplot as plt\n",
    "mean = [0, 0]\n",
    "cov = [[9,0], [0, 1]]\n",
    "x, y = np.random.multivariate_normal(mean, cov, 100).T # .T is transpose() \n",
    "'''\n",
    "I.E.\n",
    "array([[ 0.59589335,  0.97741328],\n",
    "       [-0.58597307,  0.56733234],\n",
    "       [-0.69164572,  0.17840394],\n",
    "       [-0.24992978, -2.57494471],\n",
    "       [ 0.38896689,  0.82221377]])\n",
    "-> transpose\n",
    "\n",
    "array([[ 0.59589335, -0.58597307, -0.69164572, -0.24992978,  0.38896689],\n",
    "       [ 0.97741328,  0.56733234,  0.17840394, -2.57494471,  0.82221377]])\n",
    "'''\n",
    "plt.plot(x, y, 'x') # using blue x markers\n",
    "plt.axis(\"equal\") # turns off the axis lines and labels\n",
    "plt.show()"
   ]
  },
  {
   "cell_type": "code",
   "execution_count": null,
   "metadata": {},
   "outputs": [],
   "source": []
  }
 ],
 "metadata": {
  "kernelspec": {
   "display_name": "Python 2",
   "language": "python",
   "name": "python2"
  },
  "language_info": {
   "codemirror_mode": {
    "name": "ipython",
    "version": 2
   },
   "file_extension": ".py",
   "mimetype": "text/x-python",
   "name": "python",
   "nbconvert_exporter": "python",
   "pygments_lexer": "ipython2",
   "version": "2.7.14"
  }
 },
 "nbformat": 4,
 "nbformat_minor": 2
}
